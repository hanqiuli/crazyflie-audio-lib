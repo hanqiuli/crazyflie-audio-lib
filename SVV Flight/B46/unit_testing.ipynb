{
 "cells": [
  {
   "cell_type": "markdown",
   "metadata": {},
   "source": [
    "------\n",
    "CL - CD curve [unit tests]"
   ]
  },
  {
   "cell_type": "code",
   "execution_count": 1,
   "metadata": {},
   "outputs": [
    {
     "name": "stderr",
     "output_type": "stream",
     "text": [
      "c:\\Users\\moheb\\Desktop\\Y3\\SVV Flight\\B46\\path_config.py:5: SyntaxWarning: invalid escape sequence '\\D'\n",
      "  data_dict_unfiltered_path = abs_project_path + \"\\Data_dict_SIunits.pkl\"\n",
      "c:\\Users\\moheb\\Desktop\\Y3\\SVV Flight\\B46\\path_config.py:9: SyntaxWarning: invalid escape sequence '\\D'\n",
      "  data_dict_path = abs_project_path + \"\\Data_dict_SIunits.pkl\"\n"
     ]
    },
    {
     "name": "stdout",
     "output_type": "stream",
     "text": [
      "Data dictionary path = c:\\Users\\moheb\\Desktop\\Y3\\SVV Flight\\B46\\Data_dict_SIunits.pkl\n",
      "e is =========> 0.8960008934257289\n"
     ]
    }
   ],
   "source": [
    "from CL_CD_curve import rho_calculation, CL_coefficient, CD_coefficient"
   ]
  },
  {
   "cell_type": "code",
   "execution_count": 5,
   "metadata": {},
   "outputs": [],
   "source": [
    "def test_rho_calculation_zero_values():\n",
    "    \"\"\"Test rho calculation handles zero values gracefully.\"\"\"\n",
    "    try:\n",
    "        rho_calculation(0, 0, 0)\n",
    "        # If no exception is raised, the test should fail.\n",
    "        print(\"Test failed: ValueError was not raised.\")\n",
    "    except ValueError:\n",
    "        # If a ValueError is raised, the test passes.\n",
    "        print(\"Test passed: ValueError raised as expected.\")\n",
    "\n",
    "\n",
    "\n",
    "###############\n",
    "\n",
    "    \n",
    "def test_CL_coefficient_with_mass_increase():\n",
    "    \"\"\"Test CL coefficient with increased mass and decreased S and V_TAS.\"\"\"\n",
    "    # Assuming some test values; these need to be adjusted to your specific case.\n",
    "    mi = 7000  # Increased mass\n",
    "    rho = 1.225\n",
    "    S = 25  # Decreased surface area\n",
    "    V_TAS = 100  # Decreased true airspeed\n",
    "    # Expected value needs calculation\n",
    "    expected_CL = (mi*2)*9.81/(0.5*rho*S*V_TAS**2)\n",
    "    calculated_CL = CL_coefficient(mi, rho, S, V_TAS)\n",
    "    assert expected_CL > calculated_CL\n",
    "\n",
    "    print(\"Test of CL coefficient with increased mass passed successfully.\")\n",
    "\n",
    "\n",
    "\n",
    "def test_CL_coefficient_decrease_with_S():\n",
    "    T = 300  # Increased temperature\n",
    "    rho = 1.225\n",
    "    S = 30\n",
    "    V_TAS = 150\n",
    "    m0 = 6082.91\n",
    "    S = 30.00\n",
    "    R = 287\n",
    "    a = -6.5*10**(-3)\n",
    "    g = 9.80665\n",
    "    T0 = 288.15\n",
    "    P0 = 101325\n",
    "    A = 8.43866\n",
    "    # expected_CL_increase = True\n",
    "    initial_CL = CL_coefficient(T, rho, S, V_TAS)\n",
    "    new_CL = CL_coefficient(T, rho, S-10, V_TAS)\n",
    "\n",
    "    assert new_CL > initial_CL # == expected_CL_increase\n",
    "    print(\"Test passed: Increase in Cl for an decrease in S.\")\n",
    "\n",
    "def test_CL_coefficient_decrease_with_vtas():\n",
    "    T = 300  # Increased temperature\n",
    "    rho = 1.225\n",
    "    S = 30\n",
    "    V_TAS = 150\n",
    "    m0 = 6082.91\n",
    "    S = 30.00\n",
    "    R = 287\n",
    "    a = -6.5*10**(-3)\n",
    "    g = 9.80665\n",
    "    T0 = 288.15\n",
    "    P0 = 101325\n",
    "    A = 8.43866\n",
    "    expected_CL_increase = True\n",
    "    initial_CL = CL_coefficient(T, rho, S, V_TAS)\n",
    "    new_CL = CL_coefficient(T, rho, S, V_TAS-20)\n",
    "    assert new_CL > initial_CL\n",
    "# Additional tests like e value verification and linear relationships go here.\n",
    "    print(\"Test passed: Increase in Cl for an decrease in Vtas.\")\n",
    "\n",
    "#############################\n",
    "\n",
    "def test_CD_coefficient_increase_with_temperature():\n",
    "    \"\"\"Ensure CD increases with temperature increase.\"\"\"\n",
    "    # This requires specific values and expected outcomes.\n",
    "    T = 300  # Increased temperature\n",
    "    rho = 1.225\n",
    "    S = 30\n",
    "    V_TAS = 150\n",
    "    # Expected CD needs to be calculated based on expected behavior\n",
    "    # expected_CD_increase = True\n",
    "    initial_CD = CD_coefficient(T, rho, S, V_TAS)\n",
    "    # Simulate temperature increase\n",
    "    new_CD = CD_coefficient(T+10, rho, S, V_TAS)\n",
    "    assert new_CD > initial_CD #= expected_CD_increase\n",
    "    print(\"Test passed: Increase in Cd for an increase in T.\")"
   ]
  },
  {
   "cell_type": "code",
   "execution_count": 7,
   "metadata": {},
   "outputs": [
    {
     "ename": "ZeroDivisionError",
     "evalue": "division by zero",
     "output_type": "error",
     "traceback": [
      "\u001b[1;31m---------------------------------------------------------------------------\u001b[0m",
      "\u001b[1;31mZeroDivisionError\u001b[0m                         Traceback (most recent call last)",
      "Cell \u001b[1;32mIn[7], line 1\u001b[0m\n\u001b[1;32m----> 1\u001b[0m \u001b[43mtest_rho_calculation_zero_values\u001b[49m\u001b[43m(\u001b[49m\u001b[43m)\u001b[49m\n",
      "Cell \u001b[1;32mIn[5], line 4\u001b[0m, in \u001b[0;36mtest_rho_calculation_zero_values\u001b[1;34m()\u001b[0m\n\u001b[0;32m      2\u001b[0m \u001b[38;5;250m\u001b[39m\u001b[38;5;124;03m\"\"\"Test rho calculation handles zero values gracefully.\"\"\"\u001b[39;00m\n\u001b[0;32m      3\u001b[0m \u001b[38;5;28;01mtry\u001b[39;00m:\n\u001b[1;32m----> 4\u001b[0m     \u001b[43mrho_calculation\u001b[49m\u001b[43m(\u001b[49m\u001b[38;5;241;43m0\u001b[39;49m\u001b[43m,\u001b[49m\u001b[43m \u001b[49m\u001b[38;5;241;43m0\u001b[39;49m\u001b[43m,\u001b[49m\u001b[43m \u001b[49m\u001b[38;5;241;43m0\u001b[39;49m\u001b[43m)\u001b[49m\n\u001b[0;32m      5\u001b[0m     \u001b[38;5;66;03m# If no exception is raised, the test should fail.\u001b[39;00m\n\u001b[0;32m      6\u001b[0m     \u001b[38;5;28mprint\u001b[39m(\u001b[38;5;124m\"\u001b[39m\u001b[38;5;124mTest failed: ValueError was not raised.\u001b[39m\u001b[38;5;124m\"\u001b[39m)\n",
      "File \u001b[1;32mc:\\Users\\moheb\\Desktop\\Y3\\SVV Flight\\B46\\CL_CD_curve.py:11\u001b[0m, in \u001b[0;36mrho_calculation\u001b[1;34m(P, T, R)\u001b[0m\n\u001b[0;32m     10\u001b[0m \u001b[38;5;28;01mdef\u001b[39;00m \u001b[38;5;21mrho_calculation\u001b[39m(P,T,R):\n\u001b[1;32m---> 11\u001b[0m     rho \u001b[38;5;241m=\u001b[39m \u001b[43mP\u001b[49m\u001b[38;5;241;43m/\u001b[39;49m\u001b[43m(\u001b[49m\u001b[43mR\u001b[49m\u001b[38;5;241;43m*\u001b[39;49m\u001b[43mT\u001b[49m\u001b[43m)\u001b[49m\n\u001b[0;32m     12\u001b[0m     \u001b[38;5;28;01mreturn\u001b[39;00m rho\n",
      "\u001b[1;31mZeroDivisionError\u001b[0m: division by zero"
     ]
    }
   ],
   "source": [
    "test_rho_calculation_zero_values()"
   ]
  },
  {
   "cell_type": "code",
   "execution_count": 8,
   "metadata": {},
   "outputs": [
    {
     "name": "stdout",
     "output_type": "stream",
     "text": [
      "Test passed: Increase in Cd for an increase in T.\n"
     ]
    }
   ],
   "source": [
    "test_CD_coefficient_increase_with_temperature()"
   ]
  },
  {
   "cell_type": "code",
   "execution_count": 9,
   "metadata": {},
   "outputs": [
    {
     "name": "stdout",
     "output_type": "stream",
     "text": [
      "Test of CL coefficient with increased mass passed successfully.\n"
     ]
    }
   ],
   "source": [
    "test_CL_coefficient_with_mass_increase()"
   ]
  },
  {
   "cell_type": "code",
   "execution_count": 10,
   "metadata": {},
   "outputs": [
    {
     "name": "stdout",
     "output_type": "stream",
     "text": [
      "Test passed: Increase in Cl for an decrease in Vtas.\n"
     ]
    }
   ],
   "source": [
    "test_CL_coefficient_decrease_with_vtas()"
   ]
  },
  {
   "cell_type": "code",
   "execution_count": 11,
   "metadata": {},
   "outputs": [
    {
     "name": "stdout",
     "output_type": "stream",
     "text": [
      "Test passed: Increase in Cl for an decrease in S.\n"
     ]
    }
   ],
   "source": [
    "test_CL_coefficient_decrease_with_S()"
   ]
  },
  {
   "cell_type": "markdown",
   "metadata": {},
   "source": [
    "----\n",
    "Elevator Trim Cruve [unit tests]"
   ]
  },
  {
   "cell_type": "code",
   "execution_count": 12,
   "metadata": {},
   "outputs": [],
   "source": [
    "from elevator_trim_curve import Trim_Curve"
   ]
  },
  {
   "cell_type": "code",
   "execution_count": 21,
   "metadata": {},
   "outputs": [],
   "source": [
    "import path_config"
   ]
  },
  {
   "cell_type": "code",
   "execution_count": 22,
   "metadata": {},
   "outputs": [
    {
     "data": {
      "image/png": "[encoded data removed]",
      "text/plain": [
       "<Figure size 640x480 with 1 Axes>"
      ]
     },
     "metadata": {},
     "output_type": "display_data"
    },
    {
     "data": {
      "image/png": "[encoded data removed]",
      "text/plain": [
       "<Figure size 640x480 with 1 Axes>"
      ]
     },
     "metadata": {},
     "output_type": "display_data"
    },
    {
     "name": "stdout",
     "output_type": "stream",
     "text": [
      "trim curve slope: dde_dalpha = -0.4644598173801486, elevator effectiveness: Cmde = -1.2468131626965393, static stability: dCm/dalpha = -0.5790946138532002\n"
     ]
    }
   ],
   "source": [
    "\n",
    "if __name__ == \"__main__\":\n",
    "    mTimes = np.array([35, 37, 39, 41, 43, 44, 46]) * 60.\n",
    "    calculator = Trim_Curve(data_file=path_config.data_dict_path)\n",
    "    dde_dalpha = calculator.calc_meas_elTrim(equilibrium_times = mTimes)\n",
    "    #TODO set dxcg to correct value\n",
    "    Cmde = calculator.calc_Cmde(times=(48 * 60, 50 * 60))\n",
    "    Cmalpha = calculator.calc_Cmalpha(Cmde=Cmde, dde_dalpha=dde_dalpha)\n",
    "    calculator.plot_reduced_elTrim(Cmde=Cmde, equilibrium_times=mTimes)\n",
    "    print(f'trim curve slope: dde_dalpha = {dde_dalpha}, elevator effectiveness: Cmde = {Cmde}, static stability: dCm/dalpha = {Cmalpha}')\n",
    "\n"
   ]
  },
  {
   "cell_type": "code",
   "execution_count": 13,
   "metadata": {},
   "outputs": [],
   "source": [
    "Trim_object = Trim_Curve(\"Our_data/Our_Data_Dict.pkl\")#/, (10,5) )"
   ]
  },
  {
   "cell_type": "code",
   "execution_count": 14,
   "metadata": {},
   "outputs": [],
   "source": [
    "def test_deltae_increase_with_cg():\n",
    "\n",
    "    Trim_object_for_test_0 = Trim_Curve(\"Our_data/Our_Data_Dict.pkl\")#, (37*60 + 20 + 9, 37*60 + 28 + 9) )\n",
    "    delta_e_normal_cg = Trim_object_for_test_0.delta_e\n",
    "    delta_e_normal_cg = delta_e_normal_cg[37*60 + 25 + 9]\n",
    "\n",
    "    Trim_object_for_test_1 = Trim_Curve(\"Our_data/Our_Data_Dict.pkl\")#, (40*60 + 15 + 9, 40*60 + 18 + 9) )\n",
    "    delta_e_shifted_cg = Trim_object_for_test_1.delta_e\n",
    "    delta_e_shifted_cg = delta_e_shifted_cg[40*60 + 15 + 9]\n",
    "\n",
    "    # print(delta_e_normal_cg[37*60 + 26 + 9])\n",
    "    # print(delta_e_shifted_cg[40*60 + 16 + 9])\n",
    "\n",
    "    #assert delta_e_normal_cg[37*60 + 26 + 9] > delta_e_shifted_cg[40*60 + 16 + 9] # == expected_CL_increase\n",
    "    assert delta_e_normal_cg > delta_e_shifted_cg\n",
    "    print(\"Test passed: Increase in Cl for an decrease in S.\")"
   ]
  },
  {
   "cell_type": "code",
   "execution_count": 15,
   "metadata": {},
   "outputs": [
    {
     "name": "stdout",
     "output_type": "stream",
     "text": [
      "Test passed: Increase in Cl for an decrease in S.\n"
     ]
    }
   ],
   "source": [
    "test_deltae_increase_with_cg()\n"
   ]
  },
  {
   "cell_type": "code",
   "execution_count": 16,
   "metadata": {},
   "outputs": [],
   "source": [
    "import numpy as np"
   ]
  },
  {
   "cell_type": "code",
   "execution_count": 17,
   "metadata": {},
   "outputs": [],
   "source": [
    "# eq_times = np.array([27*60 + 16 + 9 -1,\n",
    "#                      29*60 + 0 + 9 -1,\n",
    "#                      30*60 + 50 + 9 -1,\n",
    "#                      32*60 + 30 + 9 -1,\n",
    "#                      34*60 + 10 + 9 -1,\n",
    "#                      37*60 + 28 + 9 -1])\n",
    "\n",
    "Cmde = Trim_object.calc_Cmde((37*60 + 27 + 9, 40*60 + 17 + 9))\n",
    "\n",
    "# Trim_object.plot_reduced_elTrim(eq_times, cmde)"
   ]
  },
  {
   "cell_type": "code",
   "execution_count": 18,
   "metadata": {},
   "outputs": [],
   "source": [
    "eq_times = np.array([27*60 + 16 + 9 -1,\n",
    "                     29*60 + 0 + 9 -1,\n",
    "                     30*60 + 50 + 9 -1,\n",
    "                     32*60 + 30 + 9 -1,\n",
    "                     34*60 + 10 + 9 -1,\n",
    "                     37*60 + 28 + 9 -1])"
   ]
  },
  {
   "cell_type": "code",
   "execution_count": 19,
   "metadata": {},
   "outputs": [
    {
     "name": "stderr",
     "output_type": "stream",
     "text": [
      "c:\\Users\\moheb\\Desktop\\Y3\\SVV Flight\\B46\\elevator_trim_curve.py:109: RuntimeWarning: invalid value encountered in sqrt\n",
      "  V_e = self.V_t*np.sqrt(rho/self.rho_0)\n"
     ]
    },
    {
     "ename": "ValueError",
     "evalue": "operands could not be broadcast together with shapes (44331,) (50261,) ",
     "output_type": "error",
     "traceback": [
      "\u001b[1;31m---------------------------------------------------------------------------\u001b[0m",
      "\u001b[1;31mValueError\u001b[0m                                Traceback (most recent call last)",
      "Cell \u001b[1;32mIn[19], line 1\u001b[0m\n\u001b[1;32m----> 1\u001b[0m \u001b[43mTrim_object\u001b[49m\u001b[38;5;241;43m.\u001b[39;49m\u001b[43mplot_reduced_elTrim\u001b[49m\u001b[43m(\u001b[49m\u001b[43meq_times\u001b[49m\u001b[43m,\u001b[49m\u001b[43m \u001b[49m\u001b[43mCmde\u001b[49m\u001b[43m)\u001b[49m\n",
      "File \u001b[1;32mc:\\Users\\moheb\\Desktop\\Y3\\SVV Flight\\B46\\elevator_trim_curve.py:167\u001b[0m, in \u001b[0;36mTrim_Curve.plot_reduced_elTrim\u001b[1;34m(self, equilibrium_times, Cmde)\u001b[0m\n\u001b[0;32m    165\u001b[0m delta_e_stars \u001b[38;5;241m=\u001b[39m d_e \u001b[38;5;241m-\u001b[39m \u001b[38;5;241m1\u001b[39m\u001b[38;5;241m/\u001b[39mCmde \u001b[38;5;241m*\u001b[39m \u001b[38;5;28mself\u001b[39m\u001b[38;5;241m.\u001b[39mCmTc \u001b[38;5;241m*\u001b[39m (CTs \u001b[38;5;241m-\u001b[39m CT)\n\u001b[0;32m    166\u001b[0m V_e \u001b[38;5;241m=\u001b[39m \u001b[38;5;28mself\u001b[39m\u001b[38;5;241m.\u001b[39mcalc_V_e_direct()\n\u001b[1;32m--> 167\u001b[0m V_e_red \u001b[38;5;241m=\u001b[39m \u001b[38;5;28;43mself\u001b[39;49m\u001b[38;5;241;43m.\u001b[39;49m\u001b[43mreduce_V_e\u001b[49m\u001b[43m(\u001b[49m\u001b[43mV_e\u001b[49m\u001b[38;5;241;43m=\u001b[39;49m\u001b[43mV_e\u001b[49m\u001b[43m)\u001b[49m[sort_times]\n\u001b[0;32m    169\u001b[0m m \u001b[38;5;241m=\u001b[39m \u001b[38;5;28mself\u001b[39m\u001b[38;5;241m.\u001b[39mcalc_grad(alpha[:,np\u001b[38;5;241m.\u001b[39mnewaxis], delta_e_stars[:, np\u001b[38;5;241m.\u001b[39mnewaxis])\n\u001b[0;32m    171\u001b[0m plt\u001b[38;5;241m.\u001b[39mplot(V_e_red, delta_e_stars, linestyle\u001b[38;5;241m=\u001b[39m\u001b[38;5;124m'\u001b[39m\u001b[38;5;124m'\u001b[39m, marker\u001b[38;5;241m=\u001b[39m\u001b[38;5;124m'\u001b[39m\u001b[38;5;124mo\u001b[39m\u001b[38;5;124m'\u001b[39m, markersize\u001b[38;5;241m=\u001b[39m\u001b[38;5;241m3\u001b[39m, color\u001b[38;5;241m=\u001b[39m\u001b[38;5;124m'\u001b[39m\u001b[38;5;124mk\u001b[39m\u001b[38;5;124m'\u001b[39m, label\u001b[38;5;241m=\u001b[39m\u001b[38;5;124mf\u001b[39m\u001b[38;5;124m\"\u001b[39m\u001b[38;5;124mm=\u001b[39m\u001b[38;5;132;01m{\u001b[39;00mm[\u001b[38;5;241m0\u001b[39m,\u001b[38;5;241m0\u001b[39m]\u001b[38;5;132;01m:\u001b[39;00m\u001b[38;5;124m.5f\u001b[39m\u001b[38;5;132;01m}\u001b[39;00m\u001b[38;5;124m\"\u001b[39m)\n",
      "File \u001b[1;32mc:\\Users\\moheb\\Desktop\\Y3\\SVV Flight\\B46\\elevator_trim_curve.py:120\u001b[0m, in \u001b[0;36mTrim_Curve.reduce_V_e\u001b[1;34m(self, V_e)\u001b[0m\n\u001b[0;32m    114\u001b[0m \u001b[38;5;250m\u001b[39m\u001b[38;5;124;03m'''\u001b[39;00m\n\u001b[0;32m    115\u001b[0m \u001b[38;5;124;03m:param V_e: equivalent airspeed\u001b[39;00m\n\u001b[0;32m    116\u001b[0m \u001b[38;5;124;03m:param Mass: aircraft mass\u001b[39;00m\n\u001b[0;32m    117\u001b[0m \u001b[38;5;124;03m:return:\u001b[39;00m\n\u001b[0;32m    118\u001b[0m \u001b[38;5;124;03m'''\u001b[39;00m\n\u001b[0;32m    119\u001b[0m W \u001b[38;5;241m=\u001b[39m \u001b[38;5;28mself\u001b[39m\u001b[38;5;241m.\u001b[39mmass \u001b[38;5;241m*\u001b[39m \u001b[38;5;28mself\u001b[39m\u001b[38;5;241m.\u001b[39mg_0\n\u001b[1;32m--> 120\u001b[0m \u001b[38;5;28;01mreturn\u001b[39;00m \u001b[43mV_e\u001b[49m\u001b[43m \u001b[49m\u001b[38;5;241;43m*\u001b[39;49m\u001b[43m \u001b[49m\u001b[43mnp\u001b[49m\u001b[38;5;241;43m.\u001b[39;49m\u001b[43msqrt\u001b[49m\u001b[43m(\u001b[49m\u001b[38;5;28;43mself\u001b[39;49m\u001b[38;5;241;43m.\u001b[39;49m\u001b[43mW_s\u001b[49m\u001b[38;5;241;43m/\u001b[39;49m\u001b[43mW\u001b[49m\u001b[43m)\u001b[49m\n",
      "\u001b[1;31mValueError\u001b[0m: operands could not be broadcast together with shapes (44331,) (50261,) "
     ]
    }
   ],
   "source": [
    "Trim_object.plot_reduced_elTrim(eq_times, Cmde)"
   ]
  },
  {
   "cell_type": "markdown",
   "metadata": {},
   "source": [
    "------\n",
    "# Unit tests for simulation"
   ]
  },
  {
   "cell_type": "code",
   "execution_count": null,
   "metadata": {},
   "outputs": [],
   "source": [
    "!pip3.12 install control"
   ]
  },
  {
   "cell_type": "code",
   "execution_count": null,
   "metadata": {},
   "outputs": [],
   "source": [
    "import model"
   ]
  },
  {
   "cell_type": "code",
   "execution_count": null,
   "metadata": {},
   "outputs": [],
   "source": []
  }
 ],
 "metadata": {
  "kernelspec": {
   "display_name": "Python 3",
   "language": "python",
   "name": "python3"
  },
  "language_info": {
   "codemirror_mode": {
    "name": "ipython",
    "version": 3
   },
   "file_extension": ".py",
   "mimetype": "text/x-python",
   "name": "python",
   "nbconvert_exporter": "python",
   "pygments_lexer": "ipython3",
   "version": "3.12.0"
  }
 },
 "nbformat": 4,
 "nbformat_minor": 2
}
