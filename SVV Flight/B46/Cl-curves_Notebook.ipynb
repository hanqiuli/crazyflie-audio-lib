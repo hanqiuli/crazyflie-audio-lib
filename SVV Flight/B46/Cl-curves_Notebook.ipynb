{
 "cells": [
  {
   "cell_type": "code",
   "execution_count": null,
   "metadata": {
    "pycharm": {
     "is_executing": true
    }
   },
   "outputs": [],
   "source": [
    "import pickle\n",
    "import matplotlib.pyplot as plt\n",
    "from Mass_calculator import Mass\n",
    "import numpy as np\n",
    "from math import pi"
   ]
  },
  {
   "cell_type": "code",
   "execution_count": 2,
   "metadata": {},
   "outputs": [],
   "source": [
    "with open('Data_Dict_SIunits.pkl', 'rb') as pickle_file:\n",
    "    Data_Dict_loaded = pickle.load(pickle_file)"
   ]
  },
  {
   "cell_type": "markdown",
   "metadata": {},
   "source": [
    "## Getting the right indexes"
   ]
  },
  {
   "cell_type": "code",
   "execution_count": 3,
   "metadata": {},
   "outputs": [],
   "source": [
    "timestamps = [19*60, 21*60 + 25, 24*60 + 22, 26 * 60 + 18, 27*60 + 59, 29*60 + 47 ]\n",
    "list_of_indexes = []\n",
    "for i in timestamps:\n",
    "    one_index = np.where(i == Data_Dict_loaded['time'])\n",
    "    one_index = one_index[0][0] #+ 1\n",
    "    list_of_indexes.append(one_index)\n",
    "    # print(list_of_indexes)\n",
    "    # print(\"-------\")"
   ]
  },
  {
   "cell_type": "code",
   "execution_count": 4,
   "metadata": {},
   "outputs": [
    {
     "data": {
      "text/plain": [
       "[11310, 12760, 14530, 15690, 16700, 17780]"
      ]
     },
     "execution_count": 4,
     "metadata": {},
     "output_type": "execute_result"
    }
   ],
   "source": [
    "list_of_indexes"
   ]
  },
  {
   "cell_type": "markdown",
   "metadata": {},
   "source": [
    "## Main part"
   ]
  },
  {
   "cell_type": "code",
   "execution_count": 5,
   "metadata": {},
   "outputs": [],
   "source": [
    "def rho_calculation(P,T,R):\n",
    "    rho = P/(R*T)\n",
    "    return rho\n",
    "def weight_calculation(W0,F_right,F_left):\n",
    "    obj = Mass()\n",
    "    return obj.NewMass_calculator()\n",
    "def CL_coefficient(Wi,rho,S,V_TAS):\n",
    "    CL = Wi*9.81/(1/2*rho*S*(V_TAS)**2)\n",
    "    return CL\n",
    "\n",
    "def pressure(T0,h,a,R,T1,P0,g):\n",
    "    P1 = P0*(T1/T0)**(-g/(a*R))\n",
    "    return P1"
   ]
  },
  {
   "cell_type": "markdown",
   "metadata": {},
   "source": [
    "### !!!!!!!!!! Below numbers are a bit different than on the excel ...have to look into it"
   ]
  },
  {
   "cell_type": "code",
   "execution_count": 6,
   "metadata": {},
   "outputs": [
    {
     "name": "stdout",
     "output_type": "stream",
     "text": [
      "1.356920643182255\n",
      "2.053255767770007\n",
      "3.398428212101213\n",
      "4.56770004032922\n",
      "7.983696829728386\n",
      "10.53952603617298\n"
     ]
    }
   ],
   "source": [
    "for i in list_of_indexes:\n",
    "    print(Data_Dict_loaded['vane_AOA'][i]*180/pi)"
   ]
  },
  {
   "cell_type": "code",
   "execution_count": 7,
   "metadata": {},
   "outputs": [],
   "source": [
    "W0 = 6082.91\n",
    "S = 31.83\n",
    "R = 287\n",
    "a = -6.5*10**(-3)\n",
    "g = 9.80665\n",
    "T0 = 288.15\n",
    "P0 = 101325\n",
    "CL = []\n",
    "Alpha = []"
   ]
  },
  {
   "cell_type": "code",
   "execution_count": 8,
   "metadata": {},
   "outputs": [],
   "source": [
    "\n",
    "for i in list_of_indexes:#range(100,len(Data_Dict_loaded['vane_AOA']),1000):\n",
    "    if Data_Dict_loaded['Dadc1_tas'][i] != 0:\n",
    "        h = Data_Dict_loaded['Dadc1_bcAlt'][i]\n",
    "        T1 = Data_Dict_loaded['Dadc1_sat'][i]\n",
    "        P1 = pressure(T0, h, a, R, T1, P0, g)\n",
    "        rho = rho_calculation(P1, T1, R)\n",
    "\n",
    "        F_right = Data_Dict_loaded['rh_engine_FU'][i]\n",
    "        F_left = Data_Dict_loaded['lh_engine_FU'][i]\n",
    "        Weights_list = weight_calculation(W0,F_right,F_left)\n",
    "        Wi = Weights_list[i]\n",
    "\n",
    "        V_TAS = Data_Dict_loaded['Dadc1_tas'][i]\n",
    "        Cl = CL_coefficient(Wi,rho,S,V_TAS)\n",
    "        CL.append(Cl)\n",
    "        Alpha.append(Data_Dict_loaded['vane_AOA'][i]*180/pi)\n"
   ]
  },
  {
   "cell_type": "code",
   "execution_count": 9,
   "metadata": {},
   "outputs": [
    {
     "data": {
      "text/plain": [
       "[0.02081100409866359,\n",
       " 0.0269577943802501,\n",
       " 0.03714274920054164,\n",
       " 0.04721049556552113,\n",
       " 0.07476019653492447,\n",
       " 0.09620200157437762]"
      ]
     },
     "execution_count": 9,
     "metadata": {},
     "output_type": "execute_result"
    }
   ],
   "source": [
    "CL"
   ]
  },
  {
   "cell_type": "code",
   "execution_count": 10,
   "metadata": {},
   "outputs": [
    {
     "data": {
      "image/png": "[encoded data removed]",
      "text/plain": [
       "<Figure size 640x480 with 1 Axes>"
      ]
     },
     "metadata": {},
     "output_type": "display_data"
    }
   ],
   "source": [
    "plt.plot(Alpha, CL)\n",
    "plt.scatter(Alpha, CL)\n",
    "plt.grid()\n",
    "plt.show()"
   ]
  },
  {
   "cell_type": "code",
   "execution_count": null,
   "metadata": {},
   "outputs": [],
   "source": []
  },
  {
   "cell_type": "code",
   "execution_count": null,
   "outputs": [],
   "source": [],
   "metadata": {
    "collapsed": false
   }
  }
 ],
 "metadata": {
  "kernelspec": {
   "display_name": "Python 3",
   "language": "python",
   "name": "python3"
  },
  "language_info": {
   "codemirror_mode": {
    "name": "ipython",
    "version": 3
   },
   "file_extension": ".py",
   "mimetype": "text/x-python",
   "name": "python",
   "nbconvert_exporter": "python",
   "pygments_lexer": "ipython3",
   "version": "3.12.0"
  }
 },
 "nbformat": 4,
 "nbformat_minor": 2
}
