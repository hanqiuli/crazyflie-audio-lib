{
 "cells": [
  {
   "cell_type": "code",
   "execution_count": 1,
   "metadata": {},
   "outputs": [
    {
     "name": "stdout",
     "output_type": "stream",
     "text": [
      "Requirement already satisfied: numpy in c:\\users\\moheb\\appdata\\local\\programs\\python\\python312\\lib\\site-packages (1.26.1)\n"
     ]
    },
    {
     "name": "stderr",
     "output_type": "stream",
     "text": [
      "\n",
      "[notice] A new release of pip is available: 23.3.1 -> 24.0\n",
      "[notice] To update, run: python.exe -m pip install --upgrade pip\n"
     ]
    }
   ],
   "source": [
    "!pip3.12 install numpy"
   ]
  },
  {
   "cell_type": "code",
   "execution_count": 2,
   "metadata": {},
   "outputs": [
    {
     "name": "stdout",
     "output_type": "stream",
     "text": [
      "Data dictionary path = c:\\Users\\moheb\\Desktop\\Y3\\SVV Flight\\B46\\Data_dict_SIunits.pkl\n"
     ]
    }
   ],
   "source": [
    "import numpy as np\n",
    "import matplotlib.pyplot as plt\n",
    "import pickle\n",
    "from Mass_calculator import Mass\n",
    "import Cit_par24 as params\n",
    "from sklearn.linear_model import LinearRegression"
   ]
  },
  {
   "cell_type": "code",
   "execution_count": 3,
   "metadata": {},
   "outputs": [],
   "source": [
    "\n",
    "class StickForce:\n",
    "    def __init__(self, data_file: str, time_interval: tuple):\n",
    "        '''\n",
    "        :param data_file: name of the data file to read into dict\n",
    "        :param time_interval: start and end times\n",
    "        '''\n",
    "        with open(data_file, 'rb') as pickle_file:\n",
    "            Data_Dict_loaded = pickle.load(pickle_file)\n",
    "        print(Data_Dict_loaded.keys())\n",
    "\n",
    "        self.T_0 = params.Temp0 #[K]\n",
    "        self.lam = params.lamb # [K m^-1]\n",
    "        self.p_0 = params.p0 # [Pa]\n",
    "        self.g_0 = params.g # [m s^-2]\n",
    "        self.R = params.R #[J kg^-1 K^-1]\n",
    "        self.rho_0 = params.rho0 #[kg m^-3]\n",
    "        self.W_s = 60500 #[n]\n",
    "        self.gamma = 1.4 #[]\n",
    "        self.mfs = 0.048 # [kg s^-1]\n",
    "        self.CmTc = params.CmTc\n",
    "\n",
    "        self.t_start, self.t_end = time_interval\n",
    "        self.mass = Mass().NewMass_calculator()                        # [kg]\n",
    "\n",
    "        self.time = Data_Dict_loaded['time']                           # [s]\n",
    "        self.Mach_meas = Data_Dict_loaded['Dadc1_mach']                # [-]\n",
    "        self.V_c = Data_Dict_loaded['Dadc1_cas']# * 0.514444444         # [m s^-1]\n",
    "        self.V_t = Data_Dict_loaded['Dadc1_tas']# * 0.514444444         # [m s^-1]\n",
    "        self.T_m = Data_Dict_loaded['Dadc1_tat']#+274.15                # [K]\n",
    "        self.h_p = Data_Dict_loaded['Dadc1_alt']#*.3048                 # [m]\n",
    "        self.T_stat = Data_Dict_loaded['Dadc1_sat']#+274.15             # [K]\n",
    "        self.delta_e = Data_Dict_loaded['delta_e']#*np.pi/180           # [rad]\n",
    "        self.AOA = Data_Dict_loaded['vane_AOA']#*np.pi/180              # [rad]\n",
    "        self.lff = Data_Dict_loaded['lh_engine_FMF']#*.453592/3600      # [kg s^-1]\n",
    "        self.rff = Data_Dict_loaded['rh_engine_FMF']#*.453592/3600      # [kg s^-1]\n",
    "\n",
    "    @staticmethod\n",
    "    def sort_array(array_to_sort, value_array):\n",
    "        idx_sort = value_array.argsort()\n",
    "        return array_to_sort[idx_sort[::-1]]\n",
    "\n",
    "    @staticmethod\n",
    "    def calc_grad(x, y):\n",
    "        ' Calculate gradient of linear regression (x,y)'\n",
    "        model = LinearRegression().fit(x, y)\n",
    "        return model.coef_\n",
    "\n",
    "    def calc_rho(self, p: np.array, T: np.array):\n",
    "        '''\n",
    "        :param p: static pressure\n",
    "        :param T: static temperature\n",
    "        :return: density from ideal gas law\n",
    "        '''\n",
    "        rho = p / (self.R * T)\n",
    "        return rho\n",
    "\n",
    "    def calc_pressure(self, h_p: np.array):\n",
    "        '''\n",
    "        :param h_p: pressure altitude\n",
    "        :return: static pressure\n",
    "        '''\n",
    "        p = self.p_0 * (1 + self.lam * h_p / self.T_0) ** (-self.g_0 / (self.lam * self.R))\n",
    "        return p\n",
    "\n",
    "    def calc_V_e_direct(self):\n",
    "        '''\n",
    "        :return: equivalent airspeed from measured TAS\n",
    "        '''\n",
    "        p = self.calc_pressure(h_p = self.h_p)\n",
    "        rho = self.calc_rho(p=p, T = self.T_stat)\n",
    "        V_e = self.V_t*np.sqrt(rho/self.rho_0)\n",
    "        # print(f\"Pressure => {p}\")\n",
    "        # print(10*\"-\")\n",
    "        # print(f\"rho is {rho}\")\n",
    "        # print(10*\"-\")\n",
    "        # print(f\"self.T_stat => {self.T_stat}\")\n",
    "        # print(10*\"-\")\n",
    "        # print(f\"Ve => {V_e}\")\n",
    "        # print(10*\"-\")\n",
    "        # print(f\"Ve => {self.V_t}\")\n",
    "        return V_e\n",
    "\n",
    "    def reduce_V_e(self, V_e: np.array):\n",
    "        '''\n",
    "        :param V_e: equivalent airspeed\n",
    "        :param Mass: aircraft mass\n",
    "        :return:\n",
    "        '''\n",
    "        W = self.mass * self.g_0\n",
    "        return V_e * np.sqrt(self.W_s/W)\n",
    "\n",
    "    \n",
    "\n",
    "    def plot_checks(self):\n",
    "        'manually recorded data:'\n",
    "        time_man_arr = np.array([35, 37, 39, 41, 43, 44, 46]) * 60  # [s]\n",
    "        h_p_man_arr = np.array([13070, 13400, 13770, 14176, 13512, 13184, 12454]) * .3048  # [m]\n",
    "        T_m_man_arr = np.array([-11.5, -12.5, -13.8, -15.2, -12, -10.5, -8.2]) + 274.15  # [K]\n",
    "        V_c_man_arr = np.array([157.8, 148, 138, 132, 170.4, 179, 189.6]) * 0.514444444  # [m s^-1]\n",
    "        delta_e_man_arr = np.array([0.1, -0.233333333, -0.7, -1, 0.6, 0.8, 1.1])*np.pi/180   #[rad]\n",
    "\n",
    "        'plot checks:'\n",
    "        plt.plot(self.time, self.delta_e)\n",
    "        plt.plot(time_man_arr, delta_e_man_arr)\n",
    "        plt.show()\n",
    "\n",
    "        plt.plot(time_man_arr, h_p_man_arr)\n",
    "        plt.plot(self.time, self.h_p)\n",
    "        plt.show()\n",
    "\n",
    "        plt.plot(time_man_arr, T_m_man_arr)\n",
    "        plt.plot(self.time, self.T_m)\n",
    "        plt.show()\n",
    "\n",
    "        plt.plot(time_man_arr, V_c_man_arr)\n",
    "        plt.plot(self.time, self.V_c)\n",
    "        plt.show()\n"
   ]
  },
  {
   "cell_type": "code",
   "execution_count": 4,
   "metadata": {},
   "outputs": [
    {
     "name": "stdout",
     "output_type": "stream",
     "text": [
      "dict_keys(['vane_AOA', 'elevator_dte', 'column_fe', 'lh_engine_FMF', 'rh_engine_FMF', 'lh_engine_itt', 'rh_engine_itt', 'lh_engine_OP', 'rh_engine_OP', 'column_Se', 'lh_engine_fan_N1', 'lh_engine_turbine_N2', 'rh_engine_fan_N1', 'rh_engine_turbine_N2', 'lh_engine_FU', 'rh_engine_FU', 'delta_a', 'delta_e', 'delta_r', 'Gps_date', 'Gps_utcSec', 'Ahrs1_Roll', 'Ahrs1_Pitch', 'Fms1_trueHeading', 'Gps_lat', 'Gps_long', 'Ahrs1_bRollRate', 'Ahrs1_bPitchRate', 'Ahrs1_bYawRate', 'Ahrs1_bLongAcc', 'Ahrs1_bLatAcc', 'Ahrs1_bNormAcc', 'Ahrs1_aHdgAcc', 'Ahrs1_xHdgAcc', 'Ahrs1_VertAcc', 'Dadc1_sat', 'Dadc1_tat', 'Dadc1_alt', 'Dadc1_bcAlt', 'Dadc1_bcAltMb', 'Dadc1_mach', 'Dadc1_cas', 'Dadc1_tas', 'Dadc1_altRate', 'measurement_running', 'measurement_n_rdy', 'display_graph_state', 'display_active_screen', 'time'])\n"
     ]
    }
   ],
   "source": [
    "mTimes = np.array([35, 37, 39, 41, 43, 44, 46]) * 60.\n",
    "Fe = np.array([-1, -13.5, -31.5, -38, 29, 47.5, 75.5])\n",
    "calculator = StickForce(data_file='Data_Dict_SIunits.pkl', time_interval=(35*60, 46*60))\n",
    "\n"
   ]
  },
  {
   "cell_type": "code",
   "execution_count": 5,
   "metadata": {},
   "outputs": [],
   "source": [
    "Ve = calculator.calc_V_e_direct()\n",
    "reduced_ve = calculator.reduce_V_e(Ve)\n",
    "weights = calculator.mass"
   ]
  },
  {
   "cell_type": "code",
   "execution_count": 21,
   "metadata": {},
   "outputs": [
    {
     "data": {
      "text/plain": [
       "array([6.89465313e-304, 6.89465313e-304, 6.89465313e-304, ...,\n",
       "       1.62980433e-103, 5.43816636e-104, 2.31075750e-104])"
      ]
     },
     "execution_count": 21,
     "metadata": {},
     "output_type": "execute_result"
    }
   ],
   "source": [
    "Ve"
   ]
  },
  {
   "cell_type": "code",
   "execution_count": 7,
   "metadata": {},
   "outputs": [],
   "source": [
    "with open('Data_Dict_SIunits.pkl', 'rb') as pickle_file:\n",
    "    Data_Dict_loaded = pickle.load(pickle_file)"
   ]
  },
  {
   "cell_type": "code",
   "execution_count": 8,
   "metadata": {},
   "outputs": [],
   "source": [
    "timestamps = [35*60, 37*60, 39*60, 41*60, 43*60, 44*60, 46*60]\n",
    "list_of_indexes = []\n",
    "for i in timestamps:\n",
    "    one_index = np.where(i == Data_Dict_loaded['time'])\n",
    "    one_index = one_index[0][0] #+ 1\n",
    "    list_of_indexes.append(one_index)"
   ]
  },
  {
   "cell_type": "code",
   "execution_count": 9,
   "metadata": {},
   "outputs": [
    {
     "data": {
      "text/plain": [
       "[20910, 22110, 23310, 24510, 25710, 26310, 27510]"
      ]
     },
     "execution_count": 9,
     "metadata": {},
     "output_type": "execute_result"
    }
   ],
   "source": [
    "list_of_indexes"
   ]
  },
  {
   "cell_type": "markdown",
   "metadata": {},
   "source": [
    "----"
   ]
  },
  {
   "cell_type": "code",
   "execution_count": 10,
   "metadata": {},
   "outputs": [],
   "source": [
    "weights_in_timestamps = []"
   ]
  },
  {
   "cell_type": "code",
   "execution_count": 11,
   "metadata": {},
   "outputs": [],
   "source": [
    "for index in list_of_indexes:\n",
    "    weights_in_timestamps.append(weights[index])"
   ]
  },
  {
   "cell_type": "code",
   "execution_count": 12,
   "metadata": {},
   "outputs": [],
   "source": [
    "weights_in_timestamps = [weight * 9.80665 for weight in weights_in_timestamps]"
   ]
  },
  {
   "cell_type": "code",
   "execution_count": 13,
   "metadata": {},
   "outputs": [],
   "source": [
    "reduced_ve_in_timestamps = [] "
   ]
  },
  {
   "cell_type": "code",
   "execution_count": 14,
   "metadata": {},
   "outputs": [],
   "source": [
    "for index in list_of_indexes:\n",
    "    reduced_ve_in_timestamps.append(reduced_ve[index]) "
   ]
  },
  {
   "cell_type": "markdown",
   "metadata": {},
   "source": [
    "-----"
   ]
  },
  {
   "cell_type": "code",
   "execution_count": 15,
   "metadata": {},
   "outputs": [],
   "source": [
    "W_s = calculator.W_s"
   ]
  },
  {
   "cell_type": "code",
   "execution_count": 16,
   "metadata": {},
   "outputs": [],
   "source": [
    "def Fe_aero_reduced():\n",
    "    F_red = Fe*([W_s] * 7)/weights_in_timestamps\n",
    "    return F_red"
   ]
  },
  {
   "cell_type": "code",
   "execution_count": 17,
   "metadata": {},
   "outputs": [],
   "source": [
    "#plotting\n",
    "F_red = Fe_aero_reduced()\n"
   ]
  },
  {
   "cell_type": "code",
   "execution_count": 18,
   "metadata": {},
   "outputs": [
    {
     "data": {
      "text/plain": [
       "array([ -1.01420473, -13.69176742, -31.94746567, -38.53980979,\n",
       "        29.41196777,  48.17478121,  76.57256773])"
      ]
     },
     "execution_count": 18,
     "metadata": {},
     "output_type": "execute_result"
    }
   ],
   "source": [
    "F_red"
   ]
  },
  {
   "cell_type": "code",
   "execution_count": 19,
   "metadata": {},
   "outputs": [
    {
     "data": {
      "text/plain": [
       "[81.84667485776855,\n",
       " 76.25948056261801,\n",
       " 71.34780253814301,\n",
       " 68.51129275878868,\n",
       " 88.33539672905016,\n",
       " 92.17586815485596,\n",
       " 98.09183177305952]"
      ]
     },
     "execution_count": 19,
     "metadata": {},
     "output_type": "execute_result"
    }
   ],
   "source": [
    "reduced_ve_in_timestamps"
   ]
  },
  {
   "cell_type": "code",
   "execution_count": 22,
   "metadata": {},
   "outputs": [
    {
     "data": {
      "image/png": "[encoded data removed]",
      "text/plain": [
       "<Figure size 640x480 with 1 Axes>"
      ]
     },
     "metadata": {},
     "output_type": "display_data"
    }
   ],
   "source": [
    "# plt.plot(reduced_ve_in_timestamps, F_red)\n",
    "# plt.scatter(reduced_ve_in_timestamps, F_red)\n",
    "# plt.show()"
   ]
  },
  {
   "cell_type": "code",
   "execution_count": 24,
   "metadata": {},
   "outputs": [
    {
     "data": {
      "image/png": "[encoded data removed]",
      "text/plain": [
       "<Figure size 640x480 with 1 Axes>"
      ]
     },
     "metadata": {},
     "output_type": "display_data"
    }
   ],
   "source": [
    "reduced_ve_in_timestamps = np.array(reduced_ve_in_timestamps)\n",
    "F_red = np.array(F_red)\n",
    "\n",
    "# Sort the data by the independent variable (x data)\n",
    "sorted_indices = np.argsort(reduced_ve_in_timestamps)\n",
    "sorted_x = reduced_ve_in_timestamps[sorted_indices]\n",
    "sorted_y = F_red[sorted_indices]\n",
    "\n",
    "# Plot the sorted data\n",
    "plt.plot(sorted_x, sorted_y, marker='o')\n",
    "plt.xlabel('Reduced Equivalent Airspeed (m/s)')\n",
    "plt.ylabel('Reduced Control Force (N)')\n",
    "plt.show()"
   ]
  },
  {
   "cell_type": "code",
   "execution_count": null,
   "metadata": {},
   "outputs": [],
   "source": []
  }
 ],
 "metadata": {
  "kernelspec": {
   "display_name": "Python 3",
   "language": "python",
   "name": "python3"
  },
  "language_info": {
   "codemirror_mode": {
    "name": "ipython",
    "version": 3
   },
   "file_extension": ".py",
   "mimetype": "text/x-python",
   "name": "python",
   "nbconvert_exporter": "python",
   "pygments_lexer": "ipython3",
   "version": "3.12.0"
  }
 },
 "nbformat": 4,
 "nbformat_minor": 2
}
